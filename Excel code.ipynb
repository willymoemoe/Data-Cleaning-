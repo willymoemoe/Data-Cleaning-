{
 "cells": [
  {
   "cell_type": "code",
   "execution_count": 1,
   "id": "9bac8784-7e1d-474d-86d5-e632fb4c3af1",
   "metadata": {},
   "outputs": [
    {
     "name": "stdout",
     "output_type": "stream",
     "text": [
      "Defaulting to user installation because normal site-packages is not writeable\n",
      "Looking in links: /usr/share/pip-wheels\n",
      "Requirement already satisfied: pandas in /opt/conda/envs/anaconda-2022.05-py39/lib/python3.9/site-packages (1.4.2)\n",
      "Requirement already satisfied: openpyxl in /opt/conda/envs/anaconda-2022.05-py39/lib/python3.9/site-packages (3.0.9)\n",
      "Requirement already satisfied: python-dateutil>=2.8.1 in /opt/conda/envs/anaconda-2022.05-py39/lib/python3.9/site-packages (from pandas) (2.8.2)\n",
      "Requirement already satisfied: pytz>=2020.1 in /opt/conda/envs/anaconda-2022.05-py39/lib/python3.9/site-packages (from pandas) (2021.3)\n",
      "Requirement already satisfied: numpy>=1.18.5 in /opt/conda/envs/anaconda-2022.05-py39/lib/python3.9/site-packages (from pandas) (1.21.5)\n",
      "Requirement already satisfied: et-xmlfile in /opt/conda/envs/anaconda-2022.05-py39/lib/python3.9/site-packages (from openpyxl) (1.1.0)\n",
      "Requirement already satisfied: six>=1.5 in /opt/conda/envs/anaconda-2022.05-py39/lib/python3.9/site-packages (from python-dateutil>=2.8.1->pandas) (1.16.0)\n",
      "Note: you may need to restart the kernel to use updated packages.\n"
     ]
    }
   ],
   "source": [
    "pip install pandas openpyxl\n"
   ]
  },
  {
   "cell_type": "code",
   "execution_count": 6,
   "id": "33583f29-2e1c-4077-93c5-edec38479125",
   "metadata": {},
   "outputs": [
    {
     "name": "stdout",
     "output_type": "stream",
     "text": [
      "             mixed_data   phone_numbers                emails\n",
      "0  john.doe@example.com            None  john.doe@example.com\n",
      "1        (555) 123-4567  (555) 123-4567                  None\n",
      "2  jane.doe@example.com            None  jane.doe@example.com\n",
      "3          555-123-4567    555-123-4567                  None\n",
      "4           random text            None                  None\n"
     ]
    }
   ],
   "source": [
    "import pandas as pd\n",
    "import re\n",
    "\n",
    "# Example DataFrame with a mixed_data column\n",
    "data = {\n",
    "    'mixed_data': [\n",
    "        'john.doe@example.com',\n",
    "        '(555) 123-4567',\n",
    "        'jane.doe@example.com',\n",
    "        '555-123-4567',\n",
    "        'random text',\n",
    "    ]\n",
    "}\n",
    "\n",
    "df = pd.DataFrame(data)\n",
    "\n",
    "# Regular expression patterns for phone numbers and emails\n",
    "phone_pattern = re.compile(r'\\(?\\d{3}\\)?[-\\s.]?\\d{3}[-\\s.]?\\d{4}')\n",
    "email_pattern = re.compile(r'[a-zA-Z0-9._%+-]+@[a-zA-Z0-9.-]+\\.[a-zA-Z]{2,}')\n",
    "\n",
    "phone_numbers = []\n",
    "emails = []\n",
    "\n",
    "for item in df['mixed_data']:\n",
    "    if phone_pattern.match(item):\n",
    "        phone_numbers.append(item)\n",
    "        emails.append(None)\n",
    "    elif email_pattern.match(item):\n",
    "        phone_numbers.append(None)\n",
    "        emails.append(item)\n",
    "    else:\n",
    "        phone_numbers.append(None)\n",
    "        emails.append(None)\n",
    "\n",
    "df['phone_numbers'] = phone_numbers\n",
    "df['emails'] = emails\n",
    "\n",
    "print(df)\n"
   ]
  },
  {
   "cell_type": "code",
   "execution_count": 7,
   "id": "749951f0-fbee-45a1-993b-d98744eee29e",
   "metadata": {},
   "outputs": [
    {
     "name": "stdout",
     "output_type": "stream",
     "text": [
      "             mixed_data   phone_numbers                emails\n",
      "0        (555) 123-4567  (555) 123-4567                   NaN\n",
      "1          555-123-4567    555-123-4567                   NaN\n",
      "2  jane.doe@example.com             NaN  jane.doe@example.com\n",
      "3  john.doe@example.com             NaN  john.doe@example.com\n",
      "4           random text             NaN                   NaN\n"
     ]
    }
   ],
   "source": [
    "import pandas as pd\n",
    "\n",
    "# Example DataFrame with a mixed_data column\n",
    "data = {\n",
    "    'mixed_data': [\n",
    "        'john.doe@example.com',\n",
    "        '(555) 123-4567',\n",
    "        'jane.doe@example.com',\n",
    "        '555-123-4567',\n",
    "        'random text',\n",
    "    ]\n",
    "}\n",
    "df = pd.DataFrame(data)\n",
    "\n",
    "# Extract phone numbers and emails from the mixed_data column\n",
    "df['phone_numbers'] = df['mixed_data'].str.extract(r'(\\(?\\d{3}\\)?[-\\s.]?\\d{3}[-\\s.]?\\d{4})', expand=False)\n",
    "df['emails'] = df['mixed_data'].str.extract(r'([a-zA-Z0-9._%+-]+@[a-zA-Z0-9.-]+\\.[a-zA-Z]{2,})', expand=False)\n",
    "\n",
    "# Sort the DataFrame based on phone_numbers and emails\n",
    "df = df.sort_values(['phone_numbers', 'emails']).reset_index(drop=True)\n",
    "\n",
    "print(df)\n"
   ]
  },
  {
   "cell_type": "code",
   "execution_count": 8,
   "id": "6e755a38-3c5c-482e-b51f-6c0ce5c0e03c",
   "metadata": {},
   "outputs": [
    {
     "name": "stdout",
     "output_type": "stream",
     "text": [
      "             mixed_data   phone_numbers                emails\n",
      "0  john.doe@example.com             NaN  john.doe@example.com\n",
      "1        (555) 123-4567  (555) 123-4567                   NaN\n",
      "2  jane.doe@example.com             NaN  jane.doe@example.com\n",
      "3          555-123-4567    555-123-4567                   NaN\n",
      "4           random text             NaN                   NaN\n"
     ]
    }
   ],
   "source": [
    "import pandas as pd\n",
    "\n",
    "# Example DataFrame with a mixed_data column\n",
    "data = {\n",
    "    \"mixed_data\": [\n",
    "        \"john.doe@example.com\",\n",
    "        \"(555) 123-4567\",\n",
    "        \"jane.doe@example.com\",\n",
    "        \"555-123-4567\",\n",
    "        \"random text\",\n",
    "    ]\n",
    "}\n",
    "df = pd.DataFrame(data)\n",
    "\n",
    "# Extract phone numbers and emails from the mixed_data column\n",
    "df['phone_numbers'] = df['mixed_data'].str.extract(r'(\\(?\\d{3}\\)?[-\\s.]?\\d{3}[-\\s.]?\\d{4})', expand=False)\n",
    "df['emails'] = df['mixed_data'].str.extract(r'([a-zA-Z0-9._%+-]+@[a-zA-Z0-9.-]+\\.[a-zA-Z]{2,})', expand=False)\n",
    "\n",
    "print(df)\n"
   ]
  },
  {
   "cell_type": "code",
   "execution_count": 9,
   "id": "c68a3ea4-f33c-4457-bd39-1b4dfbbabf88",
   "metadata": {},
   "outputs": [
    {
     "name": "stdout",
     "output_type": "stream",
     "text": [
      "Phone numbers: ['(555) 123-4567', '555-123-4567']\n",
      "Emails: ['john.doe@example.com', 'jane.doe@example.com']\n"
     ]
    }
   ],
   "source": [
    "import re\n",
    "\n",
    "mixed_data = [\n",
    "    \"john.doe@example.com\",\n",
    "    \"(555) 123-4567\",\n",
    "    \"jane.doe@example.com\",\n",
    "    \"555-123-4567\",\n",
    "    \"random text\",\n",
    "]\n",
    "\n",
    "# Regular expression patterns for phone numbers and emails\n",
    "phone_pattern = re.compile(r'\\(?\\d{3}\\)?[-\\s.]?\\d{3}[-\\s.]?\\d{4}')\n",
    "email_pattern = re.compile(r'[a-zA-Z0-9._%+-]+@[a-zA-Z0-9.-]+\\.[a-zA-Z]{2,}')\n",
    "\n",
    "# Lists to store separated phone numbers and emails\n",
    "phone_numbers = []\n",
    "emails = []\n",
    "\n",
    "# Separate phone numbers and emails\n",
    "for item in mixed_data:\n",
    "    if phone_pattern.match(item):\n",
    "        phone_numbers.append(item)\n",
    "    elif email_pattern.match(item):\n",
    "        emails.append(item)\n",
    "\n",
    "print(\"Phone numbers:\", phone_numbers)\n",
    "print(\"Emails:\", emails)\n"
   ]
  },
  {
   "cell_type": "code",
   "execution_count": 11,
   "id": "a565d02d-1ce7-4bf7-96ae-f0a1133b07c7",
   "metadata": {},
   "outputs": [
    {
     "name": "stdout",
     "output_type": "stream",
     "text": [
      "30\n"
     ]
    }
   ],
   "source": [
    "print(sample_dict[\"age\"])  # Correct indexing\n"
   ]
  },
  {
   "cell_type": "code",
   "execution_count": null,
   "id": "4e6605d7-5047-4111-bae3-41c59c75c1c5",
   "metadata": {},
   "outputs": [],
   "source": [
    "import pandas as pd\n",
    "\n",
    "# Example DataFrame\n",
    "data = {'example_column': ['apple', None, 'banana', 'orange', None]}\n",
    "df = pd.DataFrame(data)\n",
    "\n",
    "# Replace null values with an empty string in 'example_column'\n",
    "df['example_column'] = df['example_column'].fillna('')\n",
    "\n",
    "print(df)\n",
    "\n"
   ]
  }
 ],
 "metadata": {
  "kernelspec": {
   "display_name": "anaconda-2022.05-py39",
   "language": "python",
   "name": "conda-env-anaconda-2022.05-py39-py"
  },
  "language_info": {
   "codemirror_mode": {
    "name": "ipython",
    "version": 3
   },
   "file_extension": ".py",
   "mimetype": "text/x-python",
   "name": "python",
   "nbconvert_exporter": "python",
   "pygments_lexer": "ipython3",
   "version": "3.9.12"
  }
 },
 "nbformat": 4,
 "nbformat_minor": 5
}
